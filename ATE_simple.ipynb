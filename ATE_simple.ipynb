{
 "cells": [
  {
   "cell_type": "code",
   "execution_count": null,
   "metadata": {},
   "outputs": [],
   "source": [
    "CORPUS = 'files/eval_data/corpus.conllu'\n",
    "C_CORPUS = 'files/eval_data/law.conllu'\n",
    "CONCEPTS = [\n",
    "    \"acque reflue\", \"ambito territoriale ottimale\",\n",
    "    \"autorizzazione integrata ambientale\", \"bilancio di sostenibilità\",\n",
    "    \"bioaccumulazione\", \"bioarchitettura\", \"biodegradabile\", \"biodigestione\",\n",
    "    \"biogas\", \"biomassa\", \"centro di raccolta\", \"certificazione\",\n",
    "    \"cessazione di la qualifica di rifiuto\", \n",
    "    \"circuito organizzato di raccolta\", \"co2 equivalente\", \"cogenerazione\",\n",
    "    \"combustibile solido secondario\", \"compost di qualità\", \"compostaggio\",\n",
    "    \"compostaggio di comunità\", \"consorzi di filiera\", \"digestato di qualità\",\n",
    "    \"discarica\", \"effetto serra\", \"efficienza energetica\", \"emissione\",\n",
    "    \"frazione multimateriale\", \"gas serra\", \"gestione integrata di i rifiuti\",\n",
    "    \"green procurement\", \"imballaggio\", \"life cicle assesment\",\n",
    "    \"materia prima seconda\", \"migliori tecniche disponibili\", \"oli usati\",\n",
    "    \"percolato\", \"poliaccoppiati\",  \"preparazione per il riutilizzo\",\n",
    "    \"produttore di rifiuti\", \"pulper\", \"raccolta\", \"raccolta differenziata\",\n",
    "    \"recupero\", \"riciclaggio\", \"rifiuti inerti\", \"rifiuti speciali\", \"rifiuto\",\n",
    "    \"rifiuto organico\", \"rifiuto pericoloso\", \"rigenerazione di gli oli usati\",\n",
    "    \"riutilizzo\", \"simbiosi industriale\", \"smaltimento\", \"sottoprodotto\",\n",
    "    \"spazzamento di le strade\", \"termovalorizzatore\",\n",
    "    \"valutazione ambientale strategica\", \"valutazione di impatto ambientale\"\n",
    "]\n",
    "ROOT = 'files/sample_'\n",
    "LANG = 'it'"
   ]
  },
  {
   "cell_type": "code",
   "execution_count": null,
   "metadata": {},
   "outputs": [],
   "source": [
    "from dcr_term import extract_terms, resuts2csv\n",
    "path = 'files/dcr.csv'\n",
    "terms = extract_terms(CONCEPTS, CORPUS, LANG, ROOT, k=5)\n",
    "resuts2csv(terms, path)"
   ]
  },
  {
   "cell_type": "code",
   "execution_count": null,
   "metadata": {},
   "outputs": [],
   "source": [
    "from dcr_term import extract_contrastive, resuts2csv\n",
    "path = 'files/contrastive.csv'\n",
    "terms = extract_contrastive(CORPUS, C_CORPUS, LANG, method=2)\n",
    "resuts2csv(terms, path)"
   ]
  },
  {
   "cell_type": "code",
   "execution_count": null,
   "metadata": {},
   "outputs": [],
   "source": [
    "terms = [t for t in terms if t[0] not in CONCEPTS]"
   ]
  },
  {
   "cell_type": "code",
   "execution_count": null,
   "metadata": {},
   "outputs": [],
   "source": [
    "import re\n",
    "\n",
    "trm = [re.sub(\"_[A-Z]+\", \"\", t[0]) for t in terms]\n",
    "for t in trm:\n",
    "    if \" \" not in t:\n",
    "        print(t)"
   ]
  },
  {
   "cell_type": "code",
   "execution_count": null,
   "metadata": {},
   "outputs": [],
   "source": []
  }
 ],
 "metadata": {
  "kernelspec": {
   "display_name": "Python 3.7.6",
   "language": "python",
   "name": "python3"
  },
  "language_info": {
   "codemirror_mode": {
    "name": "ipython",
    "version": 3
   },
   "file_extension": ".py",
   "mimetype": "text/x-python",
   "name": "python",
   "nbconvert_exporter": "python",
   "pygments_lexer": "ipython3",
   "version": "3.7.6"
  },
  "orig_nbformat": 4,
  "vscode": {
   "interpreter": {
    "hash": "e9ce2dd4416f9f978792fd09602620adf87f44287733915ff5f924f311bc8339"
   }
  }
 },
 "nbformat": 4,
 "nbformat_minor": 2
}
