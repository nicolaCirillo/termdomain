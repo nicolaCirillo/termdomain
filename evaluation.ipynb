{
 "cells": [
  {
   "cell_type": "code",
   "execution_count": 1,
   "metadata": {},
   "outputs": [],
   "source": [
    "import pandas as pd\n",
    "import numpy as np\n",
    "from sklearn.metrics import average_precision_score as avp\n",
    "from statsmodels.stats.inter_rater import fleiss_kappa"
   ]
  },
  {
   "cell_type": "code",
   "execution_count": 2,
   "metadata": {},
   "outputs": [],
   "source": [
    "DIR = \"H:/Il mio Drive/Dottorato/Ricerca/Valutazioni/files/top_200/\"\n",
    "DIR1 = \"H:/Il mio Drive/Dottorato/Ricerca/Valutazioni/Annotatori/\""
   ]
  },
  {
   "cell_type": "code",
   "execution_count": 3,
   "metadata": {},
   "outputs": [],
   "source": [
    "def match_annotations(extr_file, annot_file):\n",
    "    files = list()\n",
    "    for f in (extr_file, annot_file):\n",
    "        if \".csv\" in f:\n",
    "            files.append(pd.read_csv(f, delimiter=';'))\n",
    "        elif \".xlsx\" in f:\n",
    "            files.append(pd.read_excel(f))\n",
    "        else:\n",
    "            raise Exception(\"File not supported\")\n",
    "\n",
    "    return pd.merge(*files)\n",
    "\n",
    "def accuracy(dataframe, col=\"Valutazione\", true_labels=[\"SI\"]):\n",
    "    arr = np.isin(np.array(dataframe[col]), true_labels)\n",
    "    return np.sum(arr)/len(arr)\n",
    "\n",
    "def average_p(dataframe, col=\"Valutazione\", true_labels=[\"SI\"]):\n",
    "    y_score = dataframe['score']\n",
    "    y_true = np.isin(np.array(dataframe[col]), true_labels)\n",
    "    return avp(y_true, y_score)\n",
    "\n",
    "def fleiss(files, col=\"Valutazione\"):\n",
    "    data = list()\n",
    "    cat = set()\n",
    "    for f in files:\n",
    "        df = pd.read_excel(f)\n",
    "        df.fillna('')\n",
    "        data.append(df[col].tolist())\n",
    "        cat = cat.union(set(df[col].unique()))\n",
    "    table = list()\n",
    "    for d in zip(*data):\n",
    "        table.append([d.count(c) for c in cat])\n",
    "    return fleiss_kappa(table)\n"
   ]
  },
  {
   "cell_type": "code",
   "execution_count": 29,
   "metadata": {},
   "outputs": [
    {
     "name": "stdout",
     "output_type": "stream",
     "text": [
      "sketch_mwe.csv\n",
      "\tGeneral\n",
      "acc:  0.49\n",
      "avp:  0.5362746722894707\n",
      "\tWaste\n",
      "acc:  0.285\n",
      "avp:  0.35522489766840765\n",
      "\tLaw\n",
      "acc:  0.205\n",
      "avp:  0.20375176203407225\n"
     ]
    }
   ],
   "source": [
    "filein = 'sketch_mwe.csv'\n",
    "file = DIR + filein\n",
    "file1 = DIR1 + 'tutti.xlsx'\n",
    "df = match_annotations(file, file1)\n",
    "print(filein)\n",
    "\n",
    "print(\"\\tGeneral\")\n",
    "print(\"acc: \", accuracy(df))\n",
    "print(\"avp: \", average_p(df))\n",
    "\n",
    "print(\"\\tWaste\")\n",
    "print(\"acc: \", accuracy(df, \"Dominio\", [\"WASTE\", \"WASTE_LAW\", \"WASTE_REL\"]))\n",
    "print(\"avp: \", average_p(df, \"Dominio\", [\"WASTE\", \"WASTE_LAW\", \"WASTE_REL\"]))\n",
    "\n",
    "print(\"\\tLaw\")\n",
    "print(\"acc: \", accuracy(df, \"Dominio\", [\"LAW\", \"OTHER\"]))\n",
    "print(\"avp: \", average_p(df, \"Dominio\", [\"LAW\", \"OTHER\"]))"
   ]
  },
  {
   "cell_type": "code",
   "execution_count": 6,
   "metadata": {},
   "outputs": [
    {
     "data": {
      "text/plain": [
       "0.47583914451815496"
      ]
     },
     "execution_count": 6,
     "metadata": {},
     "output_type": "execute_result"
    }
   ],
   "source": [
    "## inter annotator agreement\n",
    "a_nc = DIR1 + \"annotatore NC.xlsx\"\n",
    "a_me = DIR1 + \"annotatore ME.xlsx\"\n",
    "a_ag = DIR1 + \"annotatore AG.xlsx\"\n",
    "annot = [a_ag, a_me, a_nc]\n",
    "fleiss(annot, col=\"Dominio\")"
   ]
  },
  {
   "cell_type": "code",
   "execution_count": null,
   "metadata": {},
   "outputs": [],
   "source": []
  }
 ],
 "metadata": {
  "kernelspec": {
   "display_name": "Python 3.7.6",
   "language": "python",
   "name": "python3"
  },
  "language_info": {
   "codemirror_mode": {
    "name": "ipython",
    "version": 3
   },
   "file_extension": ".py",
   "mimetype": "text/x-python",
   "name": "python",
   "nbconvert_exporter": "python",
   "pygments_lexer": "ipython3",
   "version": "3.7.6"
  },
  "orig_nbformat": 4,
  "vscode": {
   "interpreter": {
    "hash": "e9ce2dd4416f9f978792fd09602620adf87f44287733915ff5f924f311bc8339"
   }
  }
 },
 "nbformat": 4,
 "nbformat_minor": 2
}
